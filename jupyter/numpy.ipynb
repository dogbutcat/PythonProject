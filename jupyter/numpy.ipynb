{
 "cells": [
  {
   "cell_type": "code",
   "execution_count": 33,
   "metadata": {},
   "outputs": [],
   "source": [
    "import numpy as np\n",
    "\n",
    "points = np.arange(-5, 5, 0.01)\n",
    "\n",
    "xs,ys = np.meshgrid(points,points)\n",
    "\n",
    "z = np.sqrt(xs**2+ys**2)\n",
    "\n",
    "import matplotlib.pyplot as plt\n",
    "\n",
    "plt.imshow(z, cmap=plt.cm.gray, extent=[-5,5,-5,5])\n",
    "plt.colorbar()\n",
    "plt.title(\"Image plot of $\\sqrt{x^2 + y^2}$ for a grid of value\")\n",
    "plt.close(\"all\")\n"
   ]
  },
  {
   "cell_type": "code",
   "execution_count": 35,
   "metadata": {},
   "outputs": [
    {
     "data": {
      "text/plain": [
       "array([1.1, 2.2, 1.3, 1.4, 2.5])"
      ]
     },
     "execution_count": 35,
     "metadata": {},
     "output_type": "execute_result"
    }
   ],
   "source": [
    "xarr = np.array([1.1,1.2,1.3,1.4,1.5])\n",
    "yarr = np.array([2.1,2.2,2.3,2.4,2.5])\n",
    "cond = np.array([True, False, True, True, False])\n",
    "\n",
    "result = [(x if c else y)\n",
    "          for x,y,c in zip(xarr, yarr, cond)]\n",
    "result = np.where(cond, xarr, yarr)"
   ]
  },
  {
   "cell_type": "code",
   "execution_count": null,
   "metadata": {},
   "outputs": [],
   "source": [
    "rng = np.random.default_rng(seed=12345)\n",
    "arr = rng.standard_normal((4,4))\n",
    "np.where(arr>0,2,arr)\n",
    "arr.mean()\n",
    "np.mean(arr)\n",
    "arr.sum()\n",
    "np.sum(arr,axis=0)\n",
    "# arr.mean(axis=0)\n",
    "arr.cumsum(axis=0)\n",
    "arr = np.arange(32).reshape((8,4))\n",
    "\n",
    "arr[[1, 5, 7, 2]][:, [0, 3, 1, 2]]\n",
    "\n"
   ]
  },
  {
   "cell_type": "code",
   "execution_count": 105,
   "metadata": {},
   "outputs": [
    {
     "data": {
      "text/plain": [
       "array([[ 1.00000000e+00,  7.60825889e-16, -1.89612886e-15,\n",
       "        -9.87377584e-16, -8.15261560e-15],\n",
       "       [ 3.56148180e-15,  1.00000000e+00,  2.52775747e-16,\n",
       "         1.36045155e-15, -1.44628695e-15],\n",
       "       [ 1.79326244e-15, -2.36394345e-15,  1.00000000e+00,\n",
       "         2.29602738e-15, -2.12699666e-15],\n",
       "       [-1.66563193e-14,  1.45491336e-14,  1.43212268e-15,\n",
       "         1.00000000e+00,  9.22570066e-15],\n",
       "       [-4.17220042e-16,  3.33048372e-15,  2.54819098e-15,\n",
       "         1.23869921e-15,  1.00000000e+00]])"
      ]
     },
     "execution_count": 105,
     "metadata": {},
     "output_type": "execute_result"
    }
   ],
   "source": [
    "x = np.array([[1.,2.,3.],[4.,5.,6.]])\n",
    "y = np.array([[6.,23.], [-1,7],[8,9]])\n",
    "z = np.array([[4.,5.,6.],[1.,2.,3.]])\n",
    "x*z\n",
    "x.T @ x\n",
    "from numpy.linalg import inv, qr\n",
    "\n",
    "# x = np.arange(-25,25,2).reshape((5,5))\n",
    "x = np.array([[  3.4993,   2.8444,   3.5956, -16.5538,   4.4733],\n",
    "       [  2.8444,   2.5667,   2.9002, -13.5774,   3.7678],\n",
    "       [  3.5956,   2.9002,   4.4823, -18.3453,   4.7066],\n",
    "       [-16.5538, -13.5774, -18.3453,  84.0102, -22.0484],\n",
    "       [  4.4733,   3.7678,   4.7066, -22.0484,   6.0525]])\n",
    "x @ inv(x)"
   ]
  },
  {
   "cell_type": "code",
   "execution_count": 32,
   "metadata": {},
   "outputs": [
    {
     "data": {
      "text/plain": [
       "155"
      ]
     },
     "execution_count": 32,
     "metadata": {},
     "output_type": "execute_result"
    }
   ],
   "source": [
    "import random\n",
    "import matplotlib.pyplot as plt\n",
    "import numpy as np\n",
    "\n",
    "position = 0\n",
    "walk = [position]\n",
    "nsteps = 1000\n",
    "\n",
    "for _ in range(nsteps):\n",
    "    step = 1 if random.randint(0,1) else -1\n",
    "    position += step\n",
    "    walk.append(position)\n",
    "\n",
    "# plt.plot(walk[:100])\n",
    "# plt.close()\n",
    "\n",
    "nsteps = 1000\n",
    "rng = np.random.default_rng(seed=12345)\n",
    "draws = rng.integers(0,2,size=nsteps)\n",
    "steps = np.where(draws==0, 1 , -1)\n",
    "walk = steps.cumsum()\n",
    "walk.min()\n",
    "walk.max()\n",
    "# walk\n",
    "(np.abs(walk) >= 10).argmax()\n"
   ]
  },
  {
   "cell_type": "code",
   "execution_count": 73,
   "metadata": {},
   "outputs": [
    {
     "data": {
      "text/plain": [
       "500.6182621502209"
      ]
     },
     "execution_count": 73,
     "metadata": {},
     "output_type": "execute_result"
    }
   ],
   "source": [
    "import numpy as np\n",
    "\n",
    "rng = np.random.default_rng(seed=12345)\n",
    "\n",
    "nwalks = 5000\n",
    "nsteps = 1000\n",
    "draws = rng.integers(0,2, size=(nwalks, nsteps))\n",
    "steps = np.where(draws>0, 1, -1)\n",
    "walks = steps.cumsum(axis=1)\n",
    "\n",
    "hits30 = (np.abs(walks)>=30).any(axis=1)\n",
    "# print(walks)\n",
    "crossing_times = (np.abs(walks[hits30])>=30).argmax(axis=1)\n",
    "crossing_times.mean()\n",
    "\n",
    "# draws = 0.25 * rng.standard_normal((nwalks, nsteps))"
   ]
  },
  {
   "cell_type": "code",
   "execution_count": null,
   "metadata": {},
   "outputs": [],
   "source": [
    "# random walk\n",
    "import math\n",
    "import random\n",
    "\n",
    "N = 100\n",
    "step = 10\n",
    "n = 10\n",
    "e = 0.1e-4\n",
    "variables = 2\n",
    "p = [100,0]\n",
    "walk_num = 1\n",
    "print(\"迭代次数:\",N)\n",
    "print(\"初始步长:\",step)\n",
    "print(\"每次产生随机向量数目:\",n)\n",
    "print(\"epsilon:\",e)\n",
    "print(\"变量数目:\",variables)\n",
    "print(\"初始点坐标:\",p)\n",
    "\n",
    "def target_function(x):\n",
    "    r = math.sqrt((x[0]-50)**2+(x[1]-50)**2) +math.e\n",
    "    f = math.sin(r)/r+1\n",
    "    return f\n",
    "\n",
    "while(step > e):\n",
    "    k=1\n",
    "    while(k<N):\n",
    "        p1_list = []\n",
    "        for l in range(n):\n",
    "            u = [random.uniform(-1,1) for i in range(variables)]\n",
    "            u1 = [u[i]/math.sqrt(sum([u[i]**2 for i in range(variables)])) for i in range(variables)]\n",
    "            p1 = [p[i] + step*u1[i] for i in range(variables)]\n",
    "            p1_list.append(p1)\n",
    "        f_list = [target_function(p1) for p1 in p1_list]\n",
    "        f_min = min(f_list)\n",
    "        f_idx = f_list.index(f_min)\n",
    "        min_p = p1_list[f_idx]\n",
    "        if(f_min<target_function(p)):\n",
    "            k = 1\n",
    "            p = min_p\n",
    "        else:\n",
    "            k += 1\n",
    "            print(\"last epsilon: \",abs(target_function(p)-f_min))\n",
    "\n",
    "        # if(target_function(p1) < target_function(p)):\n",
    "        #     k=1\n",
    "        #     p=p1\n",
    "        # else:\n",
    "        #     k+=1\n",
    "    step = step/2\n",
    "    print(\"rount: %d\" % walk_num)\n",
    "    walk_num += 1\n",
    "print(\"random walk times: \",walk_num - 1)\n",
    "print(\"best point: \",p)\n",
    "print(\"best variable: \",target_function(p))\n"
   ]
  }
 ],
 "metadata": {
  "kernelspec": {
   "display_name": "Python 3",
   "language": "python",
   "name": "python3"
  },
  "language_info": {
   "codemirror_mode": {
    "name": "ipython",
    "version": 3
   },
   "file_extension": ".py",
   "mimetype": "text/x-python",
   "name": "python",
   "nbconvert_exporter": "python",
   "pygments_lexer": "ipython3",
   "version": "3.8.10"
  },
  "orig_nbformat": 4,
  "vscode": {
   "interpreter": {
    "hash": "6d9b3f4e27071dbf73394f511c650238ca2c1a509143f4b034f19887606a82f8"
   }
  }
 },
 "nbformat": 4,
 "nbformat_minor": 2
}
