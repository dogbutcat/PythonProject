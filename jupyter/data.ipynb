{
 "cells": [
  {
   "cell_type": "code",
   "execution_count": 1,
   "metadata": {},
   "outputs": [],
   "source": [
    "import pandas as pd\n",
    "import sys\n",
    "import csv\n",
    "import json"
   ]
  },
  {
   "cell_type": "code",
   "execution_count": 26,
   "metadata": {},
   "outputs": [
    {
     "data": {
      "text/html": [
       "<div>\n",
       "<style scoped>\n",
       "    .dataframe tbody tr th:only-of-type {\n",
       "        vertical-align: middle;\n",
       "    }\n",
       "\n",
       "    .dataframe tbody tr th {\n",
       "        vertical-align: top;\n",
       "    }\n",
       "\n",
       "    .dataframe thead th {\n",
       "        text-align: right;\n",
       "    }\n",
       "</style>\n",
       "<table border=\"1\" class=\"dataframe\">\n",
       "  <thead>\n",
       "    <tr style=\"text-align: right;\">\n",
       "      <th></th>\n",
       "      <th>something</th>\n",
       "      <th>a</th>\n",
       "      <th>b</th>\n",
       "      <th>c</th>\n",
       "      <th>d</th>\n",
       "      <th>message</th>\n",
       "    </tr>\n",
       "  </thead>\n",
       "  <tbody>\n",
       "    <tr>\n",
       "      <th>0</th>\n",
       "      <td>one</td>\n",
       "      <td>1</td>\n",
       "      <td>2</td>\n",
       "      <td>3</td>\n",
       "      <td>4</td>\n",
       "      <td>NaN</td>\n",
       "    </tr>\n",
       "    <tr>\n",
       "      <th>1</th>\n",
       "      <td>NaN</td>\n",
       "      <td>5</td>\n",
       "      <td>6</td>\n",
       "      <td></td>\n",
       "      <td>8</td>\n",
       "      <td>world</td>\n",
       "    </tr>\n",
       "    <tr>\n",
       "      <th>2</th>\n",
       "      <td>three</td>\n",
       "      <td>9</td>\n",
       "      <td>10</td>\n",
       "      <td>11</td>\n",
       "      <td>12</td>\n",
       "      <td>NaN</td>\n",
       "    </tr>\n",
       "  </tbody>\n",
       "</table>\n",
       "</div>"
      ],
      "text/plain": [
       "  something  a   b   c   d message\n",
       "0       one  1   2   3   4     NaN\n",
       "1       NaN  5   6       8   world\n",
       "2     three  9  10  11  12     NaN"
      ]
     },
     "execution_count": 26,
     "metadata": {},
     "output_type": "execute_result"
    }
   ],
   "source": [
    "# Reading and Writing Data in Text Format\n",
    "# !cat ./examples/ex1.csv\n",
    "# !echo\n",
    "# !cat ./examples/ex2.csv\n",
    "\n",
    "pd.read_csv(\"./examples/ex2.csv\", header=None)\n",
    "pd.read_csv(\"./examples/ex2.csv\", names=[\"a\",\"b\",\"c\",\"d\",\"message\"])\n",
    "parsed = pd.read_csv(\"./examples/csv_mindex.csv\", index_col=[\"key1\",\"key2\"])\n",
    "result = pd.read_csv(\"./examples/ex3.txt\", sep=\"\\s+\")\n",
    "pd.read_csv(\"./examples/ex4.csv\",skiprows=[0,2,3])\n",
    "result = pd.read_csv(\"./examples/ex5.csv\")\n",
    "result.isna()\n",
    "pd.isna(result)\n",
    "result = pd.read_csv(\"./examples/ex5.csv\", na_values=[\"NULL\"])\n",
    "result2 = pd.read_csv(\"./examples/ex5.csv\", keep_default_na=False)\n",
    "result2.isna()\n",
    "result3 = pd.read_csv(\"./examples/ex5.csv\", keep_default_na=False, na_values=[\"NA\"])\n",
    "result3.isna()\n",
    "\n",
    "sentinels = {\"message\":[\"foo\",\"NA\"], \"something\":[\"two\"]}\n",
    "pd.read_csv(\"./examples/ex5.csv\", na_values=sentinels, keep_default_na=False,)"
   ]
  },
  {
   "cell_type": "code",
   "execution_count": null,
   "metadata": {},
   "outputs": [],
   "source": [
    "#Reading Text Files in Pieces\n",
    "pd.options.display.max_rows = 10 # default is 60\n",
    "result = pd.read_csv(\"./examples/ex6.csv\")\n",
    "\n",
    "pd.read_csv(\"./examples/ex6.csv\", nrows=5)\n",
    "chunker = pd.read_csv(\"./examples/ex6.csv\", chunksize=1000)\n",
    "type(chunker)\n",
    "tot = pd.Series([], dtype='int64')\n",
    "for piece in chunker:\n",
    "    tot = tot.add(piece[\"key\"].value_counts(), fill_value=0)\n",
    "tot = tot.sort_values(ascending=False)\n",
    "tot[:10]"
   ]
  },
  {
   "cell_type": "code",
   "execution_count": 52,
   "metadata": {},
   "outputs": [
    {
     "name": "stdout",
     "output_type": "stream",
     "text": [
      "d,e,f\n",
      "1,2,3.0\n",
      "5,6,\n",
      "9,10,11.0\n"
     ]
    }
   ],
   "source": [
    "#Writing Data to Text Format\n",
    "data = pd.read_csv(\"./examples/ex5.csv\")\n",
    "# data.to_csv(\"./examples/out.csv\")\n",
    "\n",
    "# data.to_csv(sys.stdout, sep=\"|\")\n",
    "# data.to_csv(sys.stdout, na_rep=\"NULL\")\n",
    "# data.to_csv(sys.stdout, index=False, header=False)\n",
    "data.to_csv(sys.stdout, index=False, header=[\"d\",\"e\",\"f\"], columns=[\"a\",\"b\",\"c\"])"
   ]
  },
  {
   "cell_type": "code",
   "execution_count": 59,
   "metadata": {},
   "outputs": [
    {
     "name": "stdout",
     "output_type": "stream",
     "text": [
      "['a,\"b\",\"c\"']\n",
      "['1,\"2\",\"3\"']\n",
      "['1,\"2\",\"3\"']\n"
     ]
    }
   ],
   "source": [
    "#Working with Other Delimited Formats\n",
    "f = open(\"./examples/ex7.csv\")\n",
    "# reader = csv.reader(f)\n",
    "# for line in reader:\n",
    "#     print(line)\n",
    "# f.close()\n",
    "\n",
    "# with open(\"./examples/ex7.csv\") as f:\n",
    "#     lines = list(csv.reader(f))\n",
    "# header, value = lines[0], lines[1:]\n",
    "# data_dict = {h:v for h, v in zip(header, zip(*value))}\n",
    "# data_dict\n",
    "\n",
    "class my_dialect(csv.Dialect):\n",
    "    lineterminator = \"\\n\"\n",
    "    delimiter = \";\"\n",
    "    quotechar = '\"'\n",
    "    quoting = csv.QUOTE_MINIMAL\n",
    "reader = csv.reader(f, dialect=my_dialect)\n",
    "for line in reader:\n",
    "    print(line)\n",
    "f.close()\n",
    "\n"
   ]
  },
  {
   "cell_type": "code",
   "execution_count": null,
   "metadata": {},
   "outputs": [],
   "source": [
    "#JSON Data\n",
    "obj = \"\"\"\n",
    "{\"name\": \"Wes\",\n",
    " \"cities_lived\": [\"Akron\", \"Nashville\", \"New York\", \"San Francisco\"],\n",
    " \"pet\": null,\n",
    " \"siblings\": [{\"name\": \"Scott\", \"age\": 34, \"hobbies\": [\"guitars\", \"soccer\"]},\n",
    "              {\"name\": \"Katie\", \"age\": 42, \"hobbies\": [\"diving\", \"art\"]}]\n",
    "}\n",
    "\"\"\"\n",
    "result = json.loads(obj)\n",
    "json_str = json.dumps(result)\n",
    "siblings = pd.DataFrame(result[\"siblings\"],columns=[\"name\",\"age\"])\n",
    "# data = pd.read_json(\"./examples/example.json\")\n",
    "# data.to_json(sys.stdout,orient=\"records\")\n",
    "tables = pd.read_html(\"./examples/fdic_failed_bank_list.html\")\n",
    "len(tables)\n",
    "failures = tables[0]\n",
    "close_timestamps = pd.to_datetime(failures[\"Closing Date\"])\n",
    "close_timestamps.dt.year.value_counts()"
   ]
  },
  {
   "cell_type": "code",
   "execution_count": 14,
   "metadata": {},
   "outputs": [
    {
     "data": {
      "text/plain": [
       "<lxml.etree._ElementTree at 0x112e31400>"
      ]
     },
     "execution_count": 14,
     "metadata": {},
     "output_type": "execute_result"
    }
   ],
   "source": [
    "from lxml import objectify\n",
    "\n",
    "path = \"./examples/datasets/mta_perf/Performance_MNR.xml\"\n",
    "\n",
    "with open(path) as f:\n",
    "    parsed = objectify.parse(f)\n",
    "\n",
    "root = parsed"
   ]
  }
 ],
 "metadata": {
  "kernelspec": {
   "display_name": "Python 3",
   "language": "python",
   "name": "python3"
  },
  "language_info": {
   "codemirror_mode": {
    "name": "ipython",
    "version": 3
   },
   "file_extension": ".py",
   "mimetype": "text/x-python",
   "name": "python",
   "nbconvert_exporter": "python",
   "pygments_lexer": "ipython3",
   "version": "3.8.10"
  },
  "orig_nbformat": 4,
  "vscode": {
   "interpreter": {
    "hash": "6d9b3f4e27071dbf73394f511c650238ca2c1a509143f4b034f19887606a82f8"
   }
  }
 },
 "nbformat": 4,
 "nbformat_minor": 2
}
