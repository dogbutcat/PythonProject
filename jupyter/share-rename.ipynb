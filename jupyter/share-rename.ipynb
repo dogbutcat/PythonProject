{
 "cells": [
  {
   "cell_type": "code",
   "execution_count": 7,
   "metadata": {},
   "outputs": [],
   "source": [
    "path_dict = {\n",
    "    r\"辉夜大小姐ShortDrama\": r\"\\\\192.168.44.44\\emby\\main\\anime\\2030s\\2023s\\Kaguya-sama wa Kokurasetai - First Kiss wa Owaranai (2023)\\Extras\\CDs\",\n",
    "    # r\"S1\": r\"\\\\192.168.44.44\\emby\\main\\anime\\2020s\\2011s\\THE iDOLM@STER (2011)\\Season 1\\Extras\\CDs\",\n",
    "    # r\"\": r\"\",\n",
    "}"
   ]
  },
  {
   "cell_type": "code",
   "execution_count": 8,
   "metadata": {},
   "outputs": [
    {
     "name": "stdout",
     "output_type": "stream",
     "text": [
      "ln -s \"/share/ZFS31_DATA/emby/main/anime/2030s/2023s/Kaguya-sama wa Kokurasetai - First Kiss wa Owaranai (2023)/Extras/CDs\" \"辉夜大小姐ShortDrama\"\n"
     ]
    }
   ],
   "source": [
    "# 输入的原始字符串和目标文件名\n",
    "# original_path = r\"\\\\192.168.44.44\\emby\\main\\anime\\2020s\\2011s\\Nichijou - My Ordinary Life (2011)\\Extras\\CDs\"\n",
    "# target_filename = \"日常\"\n",
    "\n",
    "for k,v in path_dict.items():\n",
    "    # 将原始字符串中的反斜杠替换为正斜杠，并去掉开头的两个反斜杠\n",
    "    modified_path = v[2:].replace(\"\\\\\", \"/\")\n",
    "\n",
    "    split_result = modified_path.split(\"/\")\n",
    "\n",
    "    symbol_path = \"/\".join(split_result[1:])\n",
    "\n",
    "    # 拼接成最终的路径\n",
    "    final_path = f\"ln -s \\\"/share/ZFS31_DATA/{symbol_path}\\\" \\\"{k}\\\"\"\n",
    "\n",
    "    # 打印最终结果\n",
    "    print(final_path)\n"
   ]
  }
 ],
 "metadata": {
  "kernelspec": {
   "display_name": "Python 3",
   "language": "python",
   "name": "python3"
  },
  "language_info": {
   "codemirror_mode": {
    "name": "ipython",
    "version": 3
   },
   "file_extension": ".py",
   "mimetype": "text/x-python",
   "name": "python",
   "nbconvert_exporter": "python",
   "pygments_lexer": "ipython3",
   "version": "3.11.10"
  },
  "orig_nbformat": 4
 },
 "nbformat": 4,
 "nbformat_minor": 2
}
