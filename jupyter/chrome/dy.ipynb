{
 "cells": [
  {
   "cell_type": "code",
   "execution_count": null,
   "metadata": {},
   "outputs": [],
   "source": [
    "import websocket\n",
    "\n",
    "from dy import on_message, on_error, on_close, on_open\n",
    "\n",
    "\n",
    "if __name__ == \"__main__\":\n",
    "    websocket.enableTrace(False)\n",
    "    ws = websocket.WebSocketApp(\n",
    "        \"wss://danmuproxy.douyu.com:8503/\",\n",
    "        on_message = on_message,\n",
    "        on_error = on_error,\n",
    "        on_close = on_close,\n",
    "        on_open = on_open,\n",
    "    )\n",
    "    ws.run_forever()\n"
   ]
  }
 ],
 "metadata": {
  "kernelspec": {
   "display_name": "Python 3",
   "language": "python",
   "name": "python3"
  },
  "language_info": {
   "codemirror_mode": {
    "name": "ipython",
    "version": 3
   },
   "file_extension": ".py",
   "mimetype": "text/x-python",
   "name": "python",
   "nbconvert_exporter": "python",
   "pygments_lexer": "ipython3",
   "version": "3.8.10"
  },
  "orig_nbformat": 4
 },
 "nbformat": 4,
 "nbformat_minor": 2
}
