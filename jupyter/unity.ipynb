{
 "cells": [
  {
   "cell_type": "code",
   "execution_count": null,
   "metadata": {},
   "outputs": [],
   "source": [
    "from pathlib import Path\n",
    "from os import listdir\n",
    "from os.path import isfile, join\n",
    "\n",
    "print(Path.cwd())\n",
    "# files = [f for f in listdir(\"./csv/\") if isfile(join(\"./csv/\",f))]\n",
    "# print(files[0])"
   ]
  },
  {
   "cell_type": "code",
   "execution_count": null,
   "metadata": {},
   "outputs": [],
   "source": [
    "import csv\n",
    "\n",
    "with open('./csv/0f7c1b154e1421f3367f06d6383a6bc73ac8c3b0', newline='') as csvfile:\n",
    "    spamreader = csv.reader(csvfile, delimiter=',')\n",
    "    n = 0\n",
    "    # print(csv.list_dialects()) # ['excel', 'excel-tab', 'unix']\n",
    "    for row in spamreader:\n",
    "        if n<8:\n",
    "            print(row[0], row[1])\n",
    "            n += 1\n"
   ]
  },
  {
   "cell_type": "code",
   "execution_count": null,
   "metadata": {},
   "outputs": [],
   "source": [
    "from os import chdir\n",
    "\n",
    "chdir('/mnt/data/apps/jp.co.cygames.princessconnectredive/f')"
   ]
  },
  {
   "cell_type": "code",
   "execution_count": 22,
   "metadata": {},
   "outputs": [],
   "source": [
    "from os import listdir,rename\n",
    "from os.path import join, split, isfile\n",
    "import csv\n",
    "import hashlib\n",
    "\n",
    "def get_hash(file_path):\n",
    "    with open(file_path, mode='rb') as f:\n",
    "        md5obj = hashlib.md5()\n",
    "        md5obj.update(f.read())\n",
    "        hash = md5obj.hexdigest()\n",
    "        # print('hash: ',hash)\n",
    "        return hash\n",
    "\n",
    "def get_file_content(file_path):\n",
    "    content = []\n",
    "    with open(file_path, newline='') as csv_file:\n",
    "        csv_reader = csv.reader(csv_file, delimiter=',')\n",
    "        for row in csv_reader:\n",
    "            content.append(row)\n",
    "    return content\n",
    "\n",
    "def get_files(files):\n",
    "    dict = {}\n",
    "    for f in files:\n",
    "        dict[f] = get_file_content(f)\n",
    "    return dict\n",
    "\n",
    "def match_hash(target, dict={}):\n",
    "    file_name = \"\"\n",
    "    for k in dict.keys():\n",
    "        for row in dict[k]:\n",
    "            if row[1] == target:\n",
    "                file_name = row[0]\n",
    "                break\n",
    "        if file_name != \"\":\n",
    "            break\n",
    "    return file_name\n",
    "\n",
    "def get_file_names(base_path):\n",
    "    return [ join(base_path,f) for f in listdir(base_path) if isfile(join(base_path,f))  ]\n",
    "\n",
    "def get_files_hash(files):\n",
    "    dict = {}\n",
    "    for f in files:\n",
    "        dict[f] = get_hash(f)\n",
    "    return dict\n",
    "\n",
    "def make_pair(hashes = {}, dict = {}):\n",
    "    matches={}\n",
    "    for h, v in hashes.items():\n",
    "        ret = split(match_hash(v, dict))[1]\n",
    "        if ret != \"\":\n",
    "            matches[h] = ret\n",
    "    return matches\n",
    "\n",
    "def rename_file(data):\n",
    "    for old_file_name, v in data.items():\n",
    "        new_file_name = join(split(old_file_name)[0],v)\n",
    "        rename(old_file_name, new_file_name)\n",
    "    print('rename complete!')\n"
   ]
  },
  {
   "cell_type": "code",
   "execution_count": null,
   "metadata": {},
   "outputs": [],
   "source": [
    "\n",
    "files = get_file_names(\"./manifest\")\n",
    "\n",
    "files_data = get_files(files)"
   ]
  },
  {
   "cell_type": "code",
   "execution_count": 35,
   "metadata": {},
   "outputs": [],
   "source": [
    "sort_files = get_file_names(\"./v/t\")\n",
    "\n",
    "sort_files_hashes = get_files_hash(sort_files)"
   ]
  },
  {
   "cell_type": "code",
   "execution_count": 36,
   "metadata": {},
   "outputs": [
    {
     "name": "stdout",
     "output_type": "stream",
     "text": [
      "rename complete!\n"
     ]
    }
   ],
   "source": [
    "paired_data = make_pair(sort_files_hashes, files_data)\n",
    "\n",
    "rename_file(paired_data)\n",
    "\n",
    "# print(match_hash(get_hash('./m/t/173c5aa6c5627b07d3d48c1b74cd28ce22cfa294'),files_data))\n",
    "\n",
    "# print(join(split('./3d_file/9e3af56c0c7587112d35463463daf523d6c1f130')[0],'minigame_minigame_1008.unity3d'))\n"
   ]
  }
 ],
 "metadata": {
  "kernelspec": {
   "display_name": "Python 3 (ipykernel)",
   "language": "python",
   "name": "python3"
  },
  "language_info": {
   "codemirror_mode": {
    "name": "ipython",
    "version": 3
   },
   "file_extension": ".py",
   "mimetype": "text/x-python",
   "name": "python",
   "nbconvert_exporter": "python",
   "pygments_lexer": "ipython3",
   "version": "3.10.8"
  },
  "toc-autonumbering": false,
  "toc-showcode": false,
  "toc-showmarkdowntxt": false,
  "vscode": {
   "interpreter": {
    "hash": "6d9b3f4e27071dbf73394f511c650238ca2c1a509143f4b034f19887606a82f8"
   }
  }
 },
 "nbformat": 4,
 "nbformat_minor": 4
}
