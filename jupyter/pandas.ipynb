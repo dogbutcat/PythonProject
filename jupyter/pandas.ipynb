{
 "cells": [
  {
   "cell_type": "code",
   "execution_count": 146,
   "metadata": {},
   "outputs": [],
   "source": [
    "import numpy as np\n",
    "import pandas as pd\n"
   ]
  },
  {
   "cell_type": "code",
   "execution_count": 147,
   "metadata": {
    "tags": [
     "Series"
    ]
   },
   "outputs": [
    {
     "data": {
      "text/plain": [
       "state\n",
       "California        NaN\n",
       "Ohio          35000.0\n",
       "Oregon        16000.0\n",
       "Texas         71000.0\n",
       "Name: population, dtype: float64"
      ]
     },
     "execution_count": 147,
     "metadata": {},
     "output_type": "execute_result"
    }
   ],
   "source": [
    "obj = pd.Series([4,7,-5,3])\n",
    "obj.array\n",
    "obj.index\n",
    "\n",
    "obj2 = pd.Series([4,7,-5,3], index=[\"d\",\"b\",\"a\",\"c\"])\n",
    "obj2.index\n",
    "obj2[\"a\"]\n",
    "obj2[\"d\"] = 6\n",
    "obj2[[\"c\",\"a\",\"d\"]]\n",
    "obj2[obj2>0]\n",
    "obj2 *2\n",
    "np.exp(obj2)\n",
    "\"e\" in obj2\n",
    "\"a\" in obj2\n",
    "\n",
    "sdata = {\"Ohio\": 35000, \"Texas\": 71000, \"Oregon\": 16000, \"Utah\": 5000}\n",
    "obj3 = pd.Series(sdata)\n",
    "obj3.to_dict()\n",
    "\n",
    "states = [\"California\", \"Ohio\", \"Oregon\", \"Texas\"]\n",
    "obj4 = pd.Series(sdata, index=states)\n",
    "pd.isna(obj4)\n",
    "obj4.isna()\n",
    "pd.notna(obj4)\n",
    "obj4.notna()\n",
    "obj3+obj4\n",
    "obj4.name = \"population\"\n",
    "obj4.index.name = \"state\"\n",
    "obj.index = [\"Bob\", \"Steve\", \"Jeff\", \"Ryan\"]\n",
    "obj4"
   ]
  },
  {
   "cell_type": "code",
   "execution_count": 148,
   "metadata": {
    "tags": [
     "DataFrame"
    ]
   },
   "outputs": [
    {
     "data": {
      "text/plain": [
       "array([[2000, 'Ohio', 1.5, nan],\n",
       "       [2001, 'Ohio', 1.7, nan],\n",
       "       [2002, 'Ohio', 3.6, nan],\n",
       "       [2001, 'Nevada', 2.4, nan],\n",
       "       [2002, 'Nevada', 2.9, nan],\n",
       "       [2003, 'Nevada', 3.2, nan]], dtype=object)"
      ]
     },
     "execution_count": 148,
     "metadata": {},
     "output_type": "execute_result"
    }
   ],
   "source": [
    "data = {\"state\": [\"Ohio\", \"Ohio\", \"Ohio\", \"Nevada\", \"Nevada\", \"Nevada\"],\n",
    "        \"year\": [2000, 2001, 2002, 2001, 2002, 2003],\n",
    "        \"pop\": [1.5, 1.7, 3.6, 2.4, 2.9, 3.2]}\n",
    "frame = pd.DataFrame(data)\n",
    "frame.head()\n",
    "frame.tail()\n",
    "\n",
    "pd.DataFrame(data, columns=[\"year\",\"state\",\"pop\"])\n",
    "frame2 = pd.DataFrame(data, columns=[\"year\",\"state\",\"pop\",\"debt\"])\n",
    "frame2.columns\n",
    "frame2.state\n",
    "frame2[\"year\"]\n",
    "\n",
    "frame2.loc[1]\n",
    "frame2.iloc[2]\n",
    "\n",
    "frame2[\"debt\"] = 16.5\n",
    "\n",
    "val = pd.Series([-1.2,-1.5,-1.7], index=[\"two\",\"four\",\"five\"])\n",
    "frame2[\"debt\"] = val # not work\n",
    "\n",
    "frame2[\"eastern\"] = frame2[\"state\"] == \"Ohio\" # will not work with `frame2.eastern`\n",
    "del frame2[\"eastern\"]\n",
    "\n",
    "populations = {\"Ohio\": {2000: 1.5, 2001: 1.7, 2002: 3.6},\n",
    "               \"Nevada\": {2001: 2.4, 2002: 2.9}}\n",
    "\n",
    "frame3 = pd.DataFrame(populations)\n",
    "frame3.T\n",
    "pdata = {\"Ohio\": frame3[\"Ohio\"].iloc[:-1],\n",
    "         \"Nevada\": frame3[\"Nevada\"].iloc[:2]}\n",
    "# pd.DataFrame(pdata)\n",
    "frame3.index.name = \"year\"\n",
    "frame3.columns.name = \"state\"\n",
    "#frame3.Name = \"popluations\" # DataFrame doesn't exist Name attribute\n",
    "frame3.to_numpy()\n",
    "frame2.to_numpy()\n"
   ]
  },
  {
   "cell_type": "code",
   "execution_count": 149,
   "metadata": {
    "tags": [
     "Index"
    ]
   },
   "outputs": [
    {
     "data": {
      "text/plain": [
       "Int64Index([2000, 2001, 2002], dtype='int64', name='year')"
      ]
     },
     "execution_count": 149,
     "metadata": {},
     "output_type": "execute_result"
    }
   ],
   "source": [
    "\n",
    "obj = pd.Series(np.arange(3), index=[\"a\",\"b\",\"c\"])\n",
    "index = obj.index\n",
    "index[1:]\n",
    "# index[1] = \"d\" # TypeError\n",
    "\n",
    "labels = pd.Index(np.arange(3))\n",
    "labels\n",
    "obj2 = pd.Series([1.5,-2.5,0], index=labels)\n",
    "obj2.index is labels\n",
    "\n",
    "frame3.columns\n",
    "\"Ohio\" in frame3.columns\n",
    "2003 in frame3.index\n",
    "\n",
    "# obj2 = pd.Series([1,2,3,4],index= pd.Index([\"foo\", \"foo\", \"bar\", \"bar\"]))\n",
    "# obj2[\"bar\"]\n",
    "\n",
    "frame3.index.unique()"
   ]
  },
  {
   "cell_type": "code",
   "execution_count": 198,
   "metadata": {},
   "outputs": [
    {
     "data": {
      "text/html": [
       "<div>\n",
       "<style scoped>\n",
       "    .dataframe tbody tr th:only-of-type {\n",
       "        vertical-align: middle;\n",
       "    }\n",
       "\n",
       "    .dataframe tbody tr th {\n",
       "        vertical-align: top;\n",
       "    }\n",
       "\n",
       "    .dataframe thead th {\n",
       "        text-align: right;\n",
       "    }\n",
       "</style>\n",
       "<table border=\"1\" class=\"dataframe\">\n",
       "  <thead>\n",
       "    <tr style=\"text-align: right;\">\n",
       "      <th></th>\n",
       "      <th>Ohio</th>\n",
       "      <th>Colorado</th>\n",
       "      <th>Utah</th>\n",
       "      <th>New York</th>\n",
       "    </tr>\n",
       "  </thead>\n",
       "  <tbody>\n",
       "    <tr>\n",
       "      <th>one</th>\n",
       "      <td>0</td>\n",
       "      <td>0</td>\n",
       "      <td>8</td>\n",
       "      <td>12</td>\n",
       "    </tr>\n",
       "    <tr>\n",
       "      <th>two</th>\n",
       "      <td>0</td>\n",
       "      <td>5</td>\n",
       "      <td>9</td>\n",
       "      <td>13</td>\n",
       "    </tr>\n",
       "    <tr>\n",
       "      <th>three</th>\n",
       "      <td>0</td>\n",
       "      <td>6</td>\n",
       "      <td>10</td>\n",
       "      <td>14</td>\n",
       "    </tr>\n",
       "    <tr>\n",
       "      <th>four</th>\n",
       "      <td>0</td>\n",
       "      <td>7</td>\n",
       "      <td>11</td>\n",
       "      <td>15</td>\n",
       "    </tr>\n",
       "  </tbody>\n",
       "</table>\n",
       "</div>"
      ],
      "text/plain": [
       "       Ohio  Colorado  Utah  New York\n",
       "one       0         0     8        12\n",
       "two       0         5     9        13\n",
       "three     0         6    10        14\n",
       "four      0         7    11        15"
      ]
     },
     "execution_count": 198,
     "metadata": {},
     "output_type": "execute_result"
    }
   ],
   "source": [
    "# reindexing\n",
    "obj = pd.Series([4.5,7.2,-5.3,3.6], index=[\"d\",\"b\",\"a\",\"c\"])\n",
    "obj2 = obj.reindex([\"a\",\"b\",\"c\",\"d\",\"e\"])\n",
    "obj3 = pd.Series([\"blue\",\"purple\",\"yellow\"], index=[0,2,4])\n",
    "obj3.reindex(np.arange(6), method=\"ffill\")\n",
    "\n",
    "frame = pd.DataFrame(np.arange(9).reshape(3,3), index=[\"a\",\"c\",\"d\"],\n",
    "                     columns=[\"Ohio\",\"Texas\",\"California\"])\n",
    "frame2 = frame.reindex(index=[\"a\",\"b\",\"c\",\"d\"])\n",
    "frame2\n",
    "states = [\"Texas\", \"Utah\",\"California\"]\n",
    "# frame.reindex(columns=states,fill_value=9)\n",
    "frame.loc[[\"a\",\"d\",\"c\"],[\"California\", \"Texas\"]]\n",
    "\n",
    "# dropping entries from an Axis\n",
    "obj = pd.Series(np.arange(5.), index=[\"a\",\"b\",\"c\",\"d\",\"e\"])\n",
    "new_obj = obj.drop(\"c\")\n",
    "obj.drop([\"d\",\"c\"])\n",
    "\n",
    "data = pd.DataFrame(np.arange(16).reshape((4,4)),\n",
    "                    index=[\"Ohio\", \"Colorado\", \"Utah\", \"New York\"],\n",
    "                    columns=[\"one\", \"two\", \"three\", \"four\"])\n",
    "\n",
    "data.drop(index=[\"Colorado\", \"Ohio\"])\n",
    "data.drop(columns=[\"two\"])\n",
    "data.drop([\"two\"], axis=1)\n",
    "data.drop([\"two\",\"four\"], axis=\"columns\")\n",
    "\n",
    "# Indexing Selection and Filtering\n",
    "obj = pd.Series(np.arange(4.), index=[\"a\",\"b\",\"c\",\"d\"])\n",
    "obj[\"b\"]\n",
    "obj[1]\n",
    "obj[2:4]\n",
    "obj[[\"b\",\"a\",\"d\"]]\n",
    "obj[[1,3]]\n",
    "obj[obj<2]\n",
    "obj.loc[[\"b\",\"a\",\"d\"]]\n",
    "obj.iloc[[1,2,3]]\n",
    "obj.loc[obj>2]\n",
    "\n",
    "obj1 = pd.Series([1,2,3], index=[2,0,1])\n",
    "obj2 = pd.Series([1,2,3], index=[\"a\",\"b\",\"c\"])\n",
    "obj2[[0,1,2]]\n",
    "# obj2.loc[[0,1]] # error index doesn't contain\n",
    "obj2.iloc[[0,1,2]]\n",
    "obj2.loc[\"b\":\"c\"] = 5\n",
    "\n",
    "data = pd.DataFrame(np.arange(16).reshape((4,4)),\n",
    "                    index=[\"Ohio\", \"Colorado\", \"Utah\", \"New York\"],\n",
    "                    columns=[\"one\", \"two\", \"three\", \"four\"])\n",
    "data[[\"two\",\"three\"]]\n",
    "data[:2]\n",
    "data[data[\"three\"]>5]\n",
    "data[data < 5] = 0\n",
    "data.loc[[\"Colorado\",\"New York\"]]\n",
    "data.loc[\"Colorado\", [\"two\",\"three\"]]\n",
    "data.iloc[2]\n",
    "data.iloc[[2,1]]\n",
    "data.iloc[2,[3,0,1]]\n",
    "data.loc[:\"Utah\", \"two\"]\n",
    "\n",
    "data.iloc[:,:3][data.three>5]\n",
    "data.loc[data.three>=2]\n",
    "# data.reindex([\"one\", \"two\", \"three\", \"four\"],axis=0)\n",
    "data.T\n"
   ]
  },
  {
   "cell_type": "code",
   "execution_count": 206,
   "metadata": {},
   "outputs": [
    {
     "data": {
      "text/plain": [
       "0    0.0\n",
       "1    1.0\n",
       "dtype: float64"
      ]
     },
     "execution_count": 206,
     "metadata": {},
     "output_type": "execute_result"
    }
   ],
   "source": [
    "#Integer indexing pitfalls\n",
    "ser = pd.Series(np.arange(3.),\n",
    "                # index=['a','b','c'] #default number index will cause indexing error\n",
    "                )\n",
    "# ser[-1] # KeyError\n",
    "ser.iloc[-1] # work perfect\n",
    "ser[:2]"
   ]
  },
  {
   "cell_type": "code",
   "execution_count": 217,
   "metadata": {},
   "outputs": [],
   "source": [
    "#Pitfalls with chained indexing\n",
    "data.loc[:,\"one\"] = 1\n",
    "data.iloc[2] = 5\n",
    "data.loc[data[\"four\"]>5] = 3\n",
    "# data.loc[data.three == 5][\"three\"] = 6 # modified temp data\n",
    "data.loc[data.three == 5, [\"three\"]] = 6\n",
    "# data"
   ]
  },
  {
   "cell_type": "code",
   "execution_count": 249,
   "metadata": {},
   "outputs": [
    {
     "data": {
      "text/html": [
       "<div>\n",
       "<style scoped>\n",
       "    .dataframe tbody tr th:only-of-type {\n",
       "        vertical-align: middle;\n",
       "    }\n",
       "\n",
       "    .dataframe tbody tr th {\n",
       "        vertical-align: top;\n",
       "    }\n",
       "\n",
       "    .dataframe thead th {\n",
       "        text-align: right;\n",
       "    }\n",
       "</style>\n",
       "<table border=\"1\" class=\"dataframe\">\n",
       "  <thead>\n",
       "    <tr style=\"text-align: right;\">\n",
       "      <th></th>\n",
       "      <th>a</th>\n",
       "      <th>b</th>\n",
       "      <th>c</th>\n",
       "      <th>d</th>\n",
       "      <th>e</th>\n",
       "    </tr>\n",
       "  </thead>\n",
       "  <tbody>\n",
       "    <tr>\n",
       "      <th>0</th>\n",
       "      <td>0.0</td>\n",
       "      <td>1.0</td>\n",
       "      <td>2.0</td>\n",
       "      <td>3.0</td>\n",
       "      <td>0</td>\n",
       "    </tr>\n",
       "    <tr>\n",
       "      <th>1</th>\n",
       "      <td>4.0</td>\n",
       "      <td>5.0</td>\n",
       "      <td>6.0</td>\n",
       "      <td>7.0</td>\n",
       "      <td>0</td>\n",
       "    </tr>\n",
       "    <tr>\n",
       "      <th>2</th>\n",
       "      <td>8.0</td>\n",
       "      <td>9.0</td>\n",
       "      <td>10.0</td>\n",
       "      <td>11.0</td>\n",
       "      <td>0</td>\n",
       "    </tr>\n",
       "  </tbody>\n",
       "</table>\n",
       "</div>"
      ],
      "text/plain": [
       "     a    b     c     d  e\n",
       "0  0.0  1.0   2.0   3.0  0\n",
       "1  4.0  5.0   6.0   7.0  0\n",
       "2  8.0  9.0  10.0  11.0  0"
      ]
     },
     "execution_count": 249,
     "metadata": {},
     "output_type": "execute_result"
    }
   ],
   "source": [
    "#Arithmetic and Data Alignment\n",
    "s1 = pd.Series([7.3,-2.5,3.4,1.5], index=[\"a\",\"c\",\"d\",\"e\"])\n",
    "s2 = pd.Series([-2.1,3.6,-1.5,4,3.1],index=[\"a\",\"c\",\"e\",\"f\",\"g\"])\n",
    "s1+s2\n",
    "\n",
    "df1 = pd.DataFrame(np.arange(9.).reshape((3,3)),\n",
    "                   columns=list(\"bcd\"),index=[\"Ohio\", \"Texas\", \"Colorado\"])\n",
    "df2 = pd.DataFrame(np.arange(12.).reshape((4,3)),\n",
    "                   columns=list(\"bde\"),index=[\"Utah\", \"Ohio\", \"Texas\", \"Oregon\"])\n",
    "\n",
    "df1 = pd.DataFrame({\"A\":[1,2]})\n",
    "df2 = pd.DataFrame({\"B\":[3,4]})\n",
    "df1+df2\n",
    "\n",
    "df1 = pd.DataFrame(np.arange(12.).reshape((3, 4)),\n",
    "                   columns=list(\"abcd\"))\n",
    "df2 = pd.DataFrame(np.arange(20.).reshape((4, 5)),\n",
    "                   columns=list(\"abcde\"))\n",
    "df2.loc[1, \"b\"] = np.nan\n",
    "df1+df2\n",
    "df1.add(df2,fill_value=0)\n",
    "1 / df1\n",
    "df1.div(1)\n",
    "df1.reindex(columns=df2.columns, fill_value=0)\n"
   ]
  },
  {
   "cell_type": "code",
   "execution_count": 266,
   "metadata": {},
   "outputs": [
    {
     "data": {
      "text/html": [
       "<div>\n",
       "<style scoped>\n",
       "    .dataframe tbody tr th:only-of-type {\n",
       "        vertical-align: middle;\n",
       "    }\n",
       "\n",
       "    .dataframe tbody tr th {\n",
       "        vertical-align: top;\n",
       "    }\n",
       "\n",
       "    .dataframe thead th {\n",
       "        text-align: right;\n",
       "    }\n",
       "</style>\n",
       "<table border=\"1\" class=\"dataframe\">\n",
       "  <thead>\n",
       "    <tr style=\"text-align: right;\">\n",
       "      <th></th>\n",
       "      <th>b</th>\n",
       "      <th>d</th>\n",
       "      <th>e</th>\n",
       "    </tr>\n",
       "  </thead>\n",
       "  <tbody>\n",
       "    <tr>\n",
       "      <th>Utah</th>\n",
       "      <td>-1.0</td>\n",
       "      <td>0.0</td>\n",
       "      <td>1.0</td>\n",
       "    </tr>\n",
       "    <tr>\n",
       "      <th>Ohio</th>\n",
       "      <td>-1.0</td>\n",
       "      <td>0.0</td>\n",
       "      <td>1.0</td>\n",
       "    </tr>\n",
       "    <tr>\n",
       "      <th>Texas</th>\n",
       "      <td>-1.0</td>\n",
       "      <td>0.0</td>\n",
       "      <td>1.0</td>\n",
       "    </tr>\n",
       "    <tr>\n",
       "      <th>Oregon</th>\n",
       "      <td>-1.0</td>\n",
       "      <td>0.0</td>\n",
       "      <td>1.0</td>\n",
       "    </tr>\n",
       "  </tbody>\n",
       "</table>\n",
       "</div>"
      ],
      "text/plain": [
       "          b    d    e\n",
       "Utah   -1.0  0.0  1.0\n",
       "Ohio   -1.0  0.0  1.0\n",
       "Texas  -1.0  0.0  1.0\n",
       "Oregon -1.0  0.0  1.0"
      ]
     },
     "execution_count": 266,
     "metadata": {},
     "output_type": "execute_result"
    }
   ],
   "source": [
    "#Operations between DataFrame and Series\n",
    "arr = np.arange(12.).reshape((3,4))\n",
    "arr[0]\n",
    "arr - arr[0]\n",
    "frame = pd.DataFrame(np.arange(12.).reshape((4,3)),\n",
    "                    columns=list(\"bde\"),\n",
    "                    index=[\"Utah\", \"Ohio\", \"Texas\", \"Oregon\"])\n",
    "series = frame.iloc[0]\n",
    "series2 = pd.Series(np.arange(3), index=list(\"bef\"))\n",
    "series2 + frame\n",
    "series3 = frame['d']\n",
    "frame\n",
    "series3\n",
    "frame.sub(series3,axis=\"index\")"
   ]
  },
  {
   "cell_type": "code",
   "execution_count": 389,
   "metadata": {},
   "outputs": [
    {
     "data": {
      "text/html": [
       "<div>\n",
       "<style scoped>\n",
       "    .dataframe tbody tr th:only-of-type {\n",
       "        vertical-align: middle;\n",
       "    }\n",
       "\n",
       "    .dataframe tbody tr th {\n",
       "        vertical-align: top;\n",
       "    }\n",
       "\n",
       "    .dataframe thead th {\n",
       "        text-align: right;\n",
       "    }\n",
       "</style>\n",
       "<table border=\"1\" class=\"dataframe\">\n",
       "  <thead>\n",
       "    <tr style=\"text-align: right;\">\n",
       "      <th></th>\n",
       "      <th>b</th>\n",
       "      <th>d</th>\n",
       "      <th>e</th>\n",
       "    </tr>\n",
       "  </thead>\n",
       "  <tbody>\n",
       "    <tr>\n",
       "      <th>Utah</th>\n",
       "      <td>-0.60</td>\n",
       "      <td>2.17</td>\n",
       "      <td>1.34</td>\n",
       "    </tr>\n",
       "    <tr>\n",
       "      <th>Ohio</th>\n",
       "      <td>-0.37</td>\n",
       "      <td>0.83</td>\n",
       "      <td>0.37</td>\n",
       "    </tr>\n",
       "    <tr>\n",
       "      <th>Texas</th>\n",
       "      <td>0.06</td>\n",
       "      <td>-1.10</td>\n",
       "      <td>0.91</td>\n",
       "    </tr>\n",
       "    <tr>\n",
       "      <th>Oregon</th>\n",
       "      <td>-0.64</td>\n",
       "      <td>0.40</td>\n",
       "      <td>0.36</td>\n",
       "    </tr>\n",
       "  </tbody>\n",
       "</table>\n",
       "</div>"
      ],
      "text/plain": [
       "            b      d     e\n",
       "Utah    -0.60   2.17  1.34\n",
       "Ohio    -0.37   0.83  0.37\n",
       "Texas    0.06  -1.10  0.91\n",
       "Oregon  -0.64   0.40  0.36"
      ]
     },
     "execution_count": 389,
     "metadata": {},
     "output_type": "execute_result"
    }
   ],
   "source": [
    "#Function Application and Mapping\n",
    "frame = pd.DataFrame(np.random.standard_normal((4,3)),\n",
    "                     columns=list(\"bde\"),\n",
    "                     index=[\"Utah\", \"Ohio\", \"Texas\", \"Oregon\"])\n",
    "frame\n",
    "np.abs(frame)\n",
    "\n",
    "def f1(x):\n",
    "    return x.max()-x.min()\n",
    "frame.apply(f1)\n",
    "frame.apply(f1, axis=\"columns\")\n",
    "\n",
    "def f2(x):\n",
    "    return pd.Series([x.min(), x.max()], index=[\"min\",\"max\"])\n",
    "frame.apply(f2)\n",
    "\n",
    "def my_format(x):\n",
    "    return f\"{x:.2f}\"\n",
    "\n",
    "frame.applymap(my_format)\n",
    "# frame[\"e\"].map(my_format)"
   ]
  },
  {
   "cell_type": "code",
   "execution_count": 309,
   "metadata": {},
   "outputs": [
    {
     "data": {
      "text/html": [
       "<div>\n",
       "<style scoped>\n",
       "    .dataframe tbody tr th:only-of-type {\n",
       "        vertical-align: middle;\n",
       "    }\n",
       "\n",
       "    .dataframe tbody tr th {\n",
       "        vertical-align: top;\n",
       "    }\n",
       "\n",
       "    .dataframe thead th {\n",
       "        text-align: right;\n",
       "    }\n",
       "</style>\n",
       "<table border=\"1\" class=\"dataframe\">\n",
       "  <thead>\n",
       "    <tr style=\"text-align: right;\">\n",
       "      <th></th>\n",
       "      <th>b</th>\n",
       "      <th>a</th>\n",
       "      <th>c</th>\n",
       "    </tr>\n",
       "  </thead>\n",
       "  <tbody>\n",
       "    <tr>\n",
       "      <th>0</th>\n",
       "      <td>3.0</td>\n",
       "      <td>2.0</td>\n",
       "      <td>1.0</td>\n",
       "    </tr>\n",
       "    <tr>\n",
       "      <th>1</th>\n",
       "      <td>3.0</td>\n",
       "      <td>1.0</td>\n",
       "      <td>2.0</td>\n",
       "    </tr>\n",
       "    <tr>\n",
       "      <th>2</th>\n",
       "      <td>1.0</td>\n",
       "      <td>2.0</td>\n",
       "      <td>3.0</td>\n",
       "    </tr>\n",
       "    <tr>\n",
       "      <th>3</th>\n",
       "      <td>3.0</td>\n",
       "      <td>2.0</td>\n",
       "      <td>1.0</td>\n",
       "    </tr>\n",
       "  </tbody>\n",
       "</table>\n",
       "</div>"
      ],
      "text/plain": [
       "     b    a    c\n",
       "0  3.0  2.0  1.0\n",
       "1  3.0  1.0  2.0\n",
       "2  1.0  2.0  3.0\n",
       "3  3.0  2.0  1.0"
      ]
     },
     "execution_count": 309,
     "metadata": {},
     "output_type": "execute_result"
    }
   ],
   "source": [
    "#Sorting and Ranking\n",
    "obj=pd.Series(np.arange(4),index=[\"d\",\"a\",\"b\",\"c\"])\n",
    "obj.sort_index()\n",
    "\n",
    "frame = pd.DataFrame(np.arange(8).reshape((2,4)),\n",
    "                     index=[\"three\",\"one\"],\n",
    "                     columns=[\"d\",\"a\",\"b\",\"c\"])\n",
    "frame.sort_index()\n",
    "frame.sort_index(axis=\"columns\")\n",
    "frame.sort_index(axis=\"columns\", ascending=False)\n",
    "\n",
    "obj = pd.Series([4,7,-3,2])\n",
    "obj.sort_values()\n",
    "\n",
    "obj = pd.Series([4,np.nan,7,np.nan,-3,2])\n",
    "obj.sort_values()\n",
    "obj.sort_values(na_position=\"first\")\n",
    "\n",
    "frame = pd.DataFrame({\"b\":[4,7,-3,2],\"a\":[0,1,0,1]})\n",
    "frame.sort_values(\"b\")\n",
    "frame.sort_values([\"a\",\"b\"])\n",
    "\n",
    "obj=pd.Series([7,-5,7,4,2,0,4])\n",
    "obj.rank() # avg\n",
    "obj.rank(method=\"first\") # observe order\n",
    "obj.rank(ascending = False)\n",
    "\n",
    "frame = pd.DataFrame({\"b\":[4.3,7,-3,2],\"a\":[0,1,0,1],\"c\":[-2,5,8,-2.5]})\n",
    "frame.rank(axis=\"columns\")\n",
    "# frame"
   ]
  },
  {
   "cell_type": "code",
   "execution_count": 324,
   "metadata": {},
   "outputs": [
    {
     "data": {
      "text/html": [
       "<div>\n",
       "<style scoped>\n",
       "    .dataframe tbody tr th:only-of-type {\n",
       "        vertical-align: middle;\n",
       "    }\n",
       "\n",
       "    .dataframe tbody tr th {\n",
       "        vertical-align: top;\n",
       "    }\n",
       "\n",
       "    .dataframe thead th {\n",
       "        text-align: right;\n",
       "    }\n",
       "</style>\n",
       "<table border=\"1\" class=\"dataframe\">\n",
       "  <thead>\n",
       "    <tr style=\"text-align: right;\">\n",
       "      <th></th>\n",
       "      <th>0</th>\n",
       "      <th>1</th>\n",
       "      <th>2</th>\n",
       "    </tr>\n",
       "  </thead>\n",
       "  <tbody>\n",
       "    <tr>\n",
       "      <th>b</th>\n",
       "      <td>-0.319724</td>\n",
       "      <td>1.020477</td>\n",
       "      <td>-1.426964</td>\n",
       "    </tr>\n",
       "    <tr>\n",
       "      <th>b</th>\n",
       "      <td>0.723391</td>\n",
       "      <td>-1.554454</td>\n",
       "      <td>2.207887</td>\n",
       "    </tr>\n",
       "  </tbody>\n",
       "</table>\n",
       "</div>"
      ],
      "text/plain": [
       "          0         1         2\n",
       "b -0.319724  1.020477 -1.426964\n",
       "b  0.723391 -1.554454  2.207887"
      ]
     },
     "execution_count": 324,
     "metadata": {},
     "output_type": "execute_result"
    }
   ],
   "source": [
    "#Axis Indexes with Duplicate Labels\n",
    "obj = pd.Series(np.arange(5), index=list(\"aabbc\"))\n",
    "obj.index.is_unique\n",
    "obj[\"a\"]\n",
    "obj[\"c\"]\n",
    "df = pd.DataFrame(np.random.standard_normal((5,3)),\n",
    "                  index=list(\"aabbc\"))\n",
    "df.loc[\"c\"]\n",
    "df.loc[\"b\"]"
   ]
  },
  {
   "cell_type": "code",
   "execution_count": 346,
   "metadata": {},
   "outputs": [
    {
     "data": {
      "text/html": [
       "<div>\n",
       "<style scoped>\n",
       "    .dataframe tbody tr th:only-of-type {\n",
       "        vertical-align: middle;\n",
       "    }\n",
       "\n",
       "    .dataframe tbody tr th {\n",
       "        vertical-align: top;\n",
       "    }\n",
       "\n",
       "    .dataframe thead th {\n",
       "        text-align: right;\n",
       "    }\n",
       "</style>\n",
       "<table border=\"1\" class=\"dataframe\">\n",
       "  <thead>\n",
       "    <tr style=\"text-align: right;\">\n",
       "      <th></th>\n",
       "      <th>one</th>\n",
       "      <th>two</th>\n",
       "    </tr>\n",
       "  </thead>\n",
       "  <tbody>\n",
       "    <tr>\n",
       "      <th>a</th>\n",
       "      <td>1.400</td>\n",
       "      <td>NaN</td>\n",
       "    </tr>\n",
       "    <tr>\n",
       "      <th>b</th>\n",
       "      <td>9.940</td>\n",
       "      <td>-4.50</td>\n",
       "    </tr>\n",
       "    <tr>\n",
       "      <th>c</th>\n",
       "      <td>NaN</td>\n",
       "      <td>NaN</td>\n",
       "    </tr>\n",
       "    <tr>\n",
       "      <th>d</th>\n",
       "      <td>7.455</td>\n",
       "      <td>5.85</td>\n",
       "    </tr>\n",
       "  </tbody>\n",
       "</table>\n",
       "</div>"
      ],
      "text/plain": [
       "     one   two\n",
       "a  1.400   NaN\n",
       "b  9.940 -4.50\n",
       "c    NaN   NaN\n",
       "d  7.455  5.85"
      ]
     },
     "execution_count": 346,
     "metadata": {},
     "output_type": "execute_result"
    }
   ],
   "source": [
    "#Summarizing and Computing Descriptive Statistics\n",
    "df = pd .DataFrame([[1.4,np.nan],[7.1,-4.5],[np.nan,np.nan],[0.75,-1.3]],\n",
    "                   index=[\"a\",\"b\",\"c\",\"d\"],\n",
    "                   columns=[\"one\",\"two\"])\n",
    "df.sum(axis=\"columns\")\n",
    "df.sum(axis=\"columns\", skipna=False)\n",
    "df.mean(axis=\"index\")\n",
    "\n",
    "df.idxmax() # get max value index\n",
    "df.cumsum() # accumulation\n",
    "df.describe()\n",
    "df.cumprod()\n",
    "# df\n"
   ]
  },
  {
   "cell_type": "code",
   "execution_count": 347,
   "metadata": {},
   "outputs": [],
   "source": [
    "#Correlation and Covariance\n",
    "price = pd.read_pickle(\"./examples/yahoo_price.pkl\")\n",
    "volume = pd.read_pickle(\"./examples/yahoo_volume.pkl\")"
   ]
  },
  {
   "cell_type": "code",
   "execution_count": 359,
   "metadata": {},
   "outputs": [
    {
     "data": {
      "text/plain": [
       "AAPL   -0.075565\n",
       "GOOG   -0.007067\n",
       "IBM    -0.204849\n",
       "MSFT   -0.092950\n",
       "dtype: float64"
      ]
     },
     "execution_count": 359,
     "metadata": {},
     "output_type": "execute_result"
    }
   ],
   "source": [
    "returns = price.pct_change()\n",
    "returns.tail()\n",
    "returns[\"MSFT\"].corr(returns[\"IBM\"])\n",
    "returns[\"MSFT\"].cov(returns[\"IBM\"])\n",
    "\n",
    "returns.corr()\n",
    "returns.cov()\n",
    "returns.corrwith(returns[\"IBM\"])\n",
    "returns.corrwith(volume)"
   ]
  },
  {
   "cell_type": "code",
   "execution_count": 391,
   "metadata": {},
   "outputs": [
    {
     "data": {
      "text/plain": [
       "a  b\n",
       "1  0    2\n",
       "2  0    2\n",
       "1  1    1\n",
       "dtype: int64"
      ]
     },
     "execution_count": 391,
     "metadata": {},
     "output_type": "execute_result"
    }
   ],
   "source": [
    "#Unique Values, Value Counts, and Membership\n",
    "obj = pd.Series([\"c\", \"a\", \"d\", \"a\", \"a\", \"b\", \"b\", \"c\", \"c\"])\n",
    "uniques = obj.unique()\n",
    "obj.value_counts()\n",
    "pd.value_counts(obj.to_numpy(), sort=False)\n",
    "mask = obj.isin([\"b\",\"c\"])\n",
    "obj[mask]\n",
    "\n",
    "to_match = pd.Series([\"c\",\"a\",\"b\",\"b\",\"c\",\"a\"])\n",
    "unique_vals = pd.Series([\"c\",\"b\",\"a\"])\n",
    "indices = pd.Index(unique_vals).get_indexer(to_match)\n",
    "indices\n",
    "data = pd.DataFrame({\"Qu1\":[1,3,4,3,4],\n",
    "                     \"Qu2\":[2,3,1,2,3],\n",
    "                     \"Qu3\":[1,5,2,4,4]})\n",
    "data[\"Qu1\"].value_counts().sort_index()\n",
    "result = data.apply(pd.value_counts).fillna(0)\n",
    "result\n",
    "\n",
    "data = pd.DataFrame({\"a\":[1,1,1,2,2],\"b\":[0,0,1,0,0]})\n",
    "data.value_counts()\n",
    "## In this case, the result has an index representing the distinct rows as a hierarchical index, a topic we will explore in greater detail in Ch 8: Data Wrangling: Join, Combine, and Reshape."
   ]
  }
 ],
 "metadata": {
  "kernelspec": {
   "display_name": "Python 3",
   "language": "python",
   "name": "python3"
  },
  "language_info": {
   "codemirror_mode": {
    "name": "ipython",
    "version": 3
   },
   "file_extension": ".py",
   "mimetype": "text/x-python",
   "name": "python",
   "nbconvert_exporter": "python",
   "pygments_lexer": "ipython3",
   "version": "3.8.10 (default, Nov 14 2022, 11:56:19) \n[Clang 14.0.0 (clang-1400.0.29.202)]"
  },
  "orig_nbformat": 4,
  "vscode": {
   "interpreter": {
    "hash": "6d9b3f4e27071dbf73394f511c650238ca2c1a509143f4b034f19887606a82f8"
   }
  }
 },
 "nbformat": 4,
 "nbformat_minor": 2
}
