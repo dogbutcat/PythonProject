{
 "cells": [
  {
   "cell_type": "code",
   "execution_count": null,
   "metadata": {
    "vscode": {
     "languageId": "python"
    }
   },
   "outputs": [],
   "source": [
    "import binaryninja\n",
    "\n",
    "import logging"
   ]
  },
  {
   "cell_type": "code",
   "execution_count": null,
   "metadata": {
    "vscode": {
     "languageId": "python"
    }
   },
   "outputs": [],
   "source": [
    "entry_name = 'JNI_OnLoad'\n",
    "timeout = 30\n",
    "target = \"libnative-lib.so\"\n",
    "\n",
    "print(\"Analyzing file: {}\".format(target))\n",
    "bv = binaryninja.BinaryViewType.get_view_of_file(target)\n",
    "bv.add_analysis_option('linearsweep')\n",
    "\n",
    "for func in bv.functions:\n",
    "    if func.name != entry_name: continue\n",
    "    print(\"Function: {}\".format(func.name))\n",
    "    for block in func.medium_level_il.ssa_form:\n",
    "        for instr in block:\n",
    "            print(instr)\n"
   ]
  }
 ],
 "metadata": {
  "kernelspec": {
   "display_name": "Ghidra",
   "language": "python3",
   "name": "ghidra"
  },
  "language_info": {
   "codemirror_mode": "Python",
   "file_extension": ".py",
   "mimetype": "text/x-python3",
   "name": "Ghidra Python",
   "pygments_lexer": "python3"
  }
 },
 "nbformat": 4,
 "nbformat_minor": 2
}
